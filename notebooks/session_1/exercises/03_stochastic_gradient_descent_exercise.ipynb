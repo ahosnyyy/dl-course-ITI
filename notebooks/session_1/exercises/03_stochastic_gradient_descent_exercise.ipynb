{
  "metadata": {
    "jupytext": {
      "cell_metadata_filter": "-all",
      "formats": "ipynb"
    },
    "kernelspec": {
      "display_name": "Python 3",
      "language": "python",
      "name": "python3"
    },
    "language_info": {
      "codemirror_mode": {
        "name": "ipython",
        "version": 3
      },
      "file_extension": ".py",
      "mimetype": "text/x-python",
      "name": "python",
      "nbconvert_exporter": "python",
      "pygments_lexer": "ipython3",
      "version": "3.6.5"
    },
    "colab": {
      "name": "03-stochastic-gradient-descent-exercise.ipynb",
      "provenance": [],
      "collapsed_sections": []
    }
  },
  "nbformat_minor": 0,
  "nbformat": 4,
  "cells": [
    {
      "cell_type": "markdown",
      "source": [
        "# Introduction #\n",
        "\n",
        "In this exercise you'll train a neural network on the *Fuel Economy* dataset and then explore the effect of the learning rate and batch size on SGD.\n",
        "\n",
        "When you're ready, run this next cell to set everything up!"
      ],
      "metadata": {
        "id": "3qHL07VklXIC"
      }
    },
    {
      "cell_type": "code",
      "source": [
        "# Setup plotting\n",
        "import matplotlib.pyplot as plt\n",
        "\n",
        "plt.style.use('seaborn-whitegrid')\n",
        "# Set Matplotlib defaults\n",
        "plt.rc('figure', autolayout=True)\n",
        "plt.rc('axes', labelweight='bold', labelsize='large',\n",
        "       titleweight='bold', titlesize=18, titlepad=10)\n",
        "plt.rc('animation', html='html5')"
      ],
      "metadata": {
        "id": "bf5FGiCelXID"
      },
      "execution_count": 2,
      "outputs": []
    },
    {
      "cell_type": "markdown",
      "source": [
        "In the *Fuel Economy* dataset your task is to predict the fuel economy of an automobile given features like its type of engine or the year it was made. \n",
        "\n",
        "First load the dataset by running the cell below."
      ],
      "metadata": {
        "id": "fPXMv-__lXIE"
      }
    },
    {
      "cell_type": "code",
      "source": [
        "import numpy as np\n",
        "import pandas as pd\n",
        "from sklearn.preprocessing import StandardScaler, OneHotEncoder\n",
        "from sklearn.compose import make_column_transformer, make_column_selector\n",
        "from sklearn.model_selection import train_test_split\n",
        "\n",
        "fuel = pd.read_csv('./fuel.csv')\n",
        "\n",
        "X = fuel.copy()\n",
        "# Remove target\n",
        "y = X.pop('FE')\n",
        "\n",
        "preprocessor = make_column_transformer(\n",
        "    (StandardScaler(),\n",
        "     make_column_selector(dtype_include=np.number)),\n",
        "    (OneHotEncoder(sparse=False),\n",
        "     make_column_selector(dtype_include=object)),\n",
        ")\n",
        "\n",
        "X = preprocessor.fit_transform(X)\n",
        "y = np.log(y) # log transform target instead of standardizing\n",
        "\n",
        "input_shape = [X.shape[1]]\n",
        "print(\"Input shape: {}\".format(input_shape))"
      ],
      "metadata": {
        "colab": {
          "base_uri": "https://localhost:8080/"
        },
        "id": "KeDURykxlXIE",
        "outputId": "85c67932-601c-4b80-e019-bb89d33faf22"
      },
      "execution_count": 3,
      "outputs": [
        {
          "output_type": "stream",
          "name": "stdout",
          "text": [
            "Input shape: [50]\n"
          ]
        }
      ]
    },
    {
      "cell_type": "markdown",
      "source": [
        "Take a look at the data if you like. Our target in this case is the `'FE'` column and the remaining columns are the features."
      ],
      "metadata": {
        "id": "SrI33GWklXIE"
      }
    },
    {
      "cell_type": "code",
      "source": [
        "fuel.head()\n",
        "pd.DataFrame(X[:10,:]).head()"
      ],
      "metadata": {
        "colab": {
          "base_uri": "https://localhost:8080/",
          "height": 236
        },
        "id": "efiSDeaLlXIF",
        "outputId": "5647c3a4-6aa3-4bf9-8795-98011b2426ea"
      },
      "execution_count": 6,
      "outputs": [
        {
          "output_type": "execute_result",
          "data": {
            "text/plain": [
              "         0         1         2         3         4         5        6   \\\n",
              "0  0.913643  1.068005  0.524148  0.685653 -0.226455  0.391659  0.43492   \n",
              "1  0.913643  1.068005  0.524148  0.685653 -0.226455  0.391659  0.43492   \n",
              "2  0.530594  1.068005  0.524148  0.685653 -0.226455  0.391659  0.43492   \n",
              "3  0.530594  1.068005  0.524148  0.685653 -0.226455  0.391659  0.43492   \n",
              "4  1.296693  2.120794  0.524148 -1.458464 -0.226455  0.391659  0.43492   \n",
              "\n",
              "         7         8    9   ...   40   41   42   43   44   45   46   47   48  \\\n",
              "0  0.463841 -0.447941  0.0  ...  0.0  0.0  0.0  0.0  0.0  0.0  0.0  0.0  0.0   \n",
              "1  0.463841 -0.447941  0.0  ...  0.0  0.0  0.0  0.0  0.0  0.0  0.0  0.0  0.0   \n",
              "2  0.463841 -0.447941  0.0  ...  0.0  0.0  0.0  0.0  0.0  0.0  0.0  0.0  0.0   \n",
              "3  0.463841 -0.447941  0.0  ...  0.0  0.0  0.0  0.0  0.0  0.0  0.0  0.0  0.0   \n",
              "4  0.463841 -0.447941  0.0  ...  0.0  0.0  0.0  0.0  0.0  0.0  0.0  0.0  0.0   \n",
              "\n",
              "    49  \n",
              "0  0.0  \n",
              "1  0.0  \n",
              "2  0.0  \n",
              "3  0.0  \n",
              "4  0.0  \n",
              "\n",
              "[5 rows x 50 columns]"
            ],
            "text/html": [
              "\n",
              "  <div id=\"df-6bea25b3-455a-4fd5-a9ab-958a681b152a\">\n",
              "    <div class=\"colab-df-container\">\n",
              "      <div>\n",
              "<style scoped>\n",
              "    .dataframe tbody tr th:only-of-type {\n",
              "        vertical-align: middle;\n",
              "    }\n",
              "\n",
              "    .dataframe tbody tr th {\n",
              "        vertical-align: top;\n",
              "    }\n",
              "\n",
              "    .dataframe thead th {\n",
              "        text-align: right;\n",
              "    }\n",
              "</style>\n",
              "<table border=\"1\" class=\"dataframe\">\n",
              "  <thead>\n",
              "    <tr style=\"text-align: right;\">\n",
              "      <th></th>\n",
              "      <th>0</th>\n",
              "      <th>1</th>\n",
              "      <th>2</th>\n",
              "      <th>3</th>\n",
              "      <th>4</th>\n",
              "      <th>5</th>\n",
              "      <th>6</th>\n",
              "      <th>7</th>\n",
              "      <th>8</th>\n",
              "      <th>9</th>\n",
              "      <th>...</th>\n",
              "      <th>40</th>\n",
              "      <th>41</th>\n",
              "      <th>42</th>\n",
              "      <th>43</th>\n",
              "      <th>44</th>\n",
              "      <th>45</th>\n",
              "      <th>46</th>\n",
              "      <th>47</th>\n",
              "      <th>48</th>\n",
              "      <th>49</th>\n",
              "    </tr>\n",
              "  </thead>\n",
              "  <tbody>\n",
              "    <tr>\n",
              "      <th>0</th>\n",
              "      <td>0.913643</td>\n",
              "      <td>1.068005</td>\n",
              "      <td>0.524148</td>\n",
              "      <td>0.685653</td>\n",
              "      <td>-0.226455</td>\n",
              "      <td>0.391659</td>\n",
              "      <td>0.43492</td>\n",
              "      <td>0.463841</td>\n",
              "      <td>-0.447941</td>\n",
              "      <td>0.0</td>\n",
              "      <td>...</td>\n",
              "      <td>0.0</td>\n",
              "      <td>0.0</td>\n",
              "      <td>0.0</td>\n",
              "      <td>0.0</td>\n",
              "      <td>0.0</td>\n",
              "      <td>0.0</td>\n",
              "      <td>0.0</td>\n",
              "      <td>0.0</td>\n",
              "      <td>0.0</td>\n",
              "      <td>0.0</td>\n",
              "    </tr>\n",
              "    <tr>\n",
              "      <th>1</th>\n",
              "      <td>0.913643</td>\n",
              "      <td>1.068005</td>\n",
              "      <td>0.524148</td>\n",
              "      <td>0.685653</td>\n",
              "      <td>-0.226455</td>\n",
              "      <td>0.391659</td>\n",
              "      <td>0.43492</td>\n",
              "      <td>0.463841</td>\n",
              "      <td>-0.447941</td>\n",
              "      <td>0.0</td>\n",
              "      <td>...</td>\n",
              "      <td>0.0</td>\n",
              "      <td>0.0</td>\n",
              "      <td>0.0</td>\n",
              "      <td>0.0</td>\n",
              "      <td>0.0</td>\n",
              "      <td>0.0</td>\n",
              "      <td>0.0</td>\n",
              "      <td>0.0</td>\n",
              "      <td>0.0</td>\n",
              "      <td>0.0</td>\n",
              "    </tr>\n",
              "    <tr>\n",
              "      <th>2</th>\n",
              "      <td>0.530594</td>\n",
              "      <td>1.068005</td>\n",
              "      <td>0.524148</td>\n",
              "      <td>0.685653</td>\n",
              "      <td>-0.226455</td>\n",
              "      <td>0.391659</td>\n",
              "      <td>0.43492</td>\n",
              "      <td>0.463841</td>\n",
              "      <td>-0.447941</td>\n",
              "      <td>0.0</td>\n",
              "      <td>...</td>\n",
              "      <td>0.0</td>\n",
              "      <td>0.0</td>\n",
              "      <td>0.0</td>\n",
              "      <td>0.0</td>\n",
              "      <td>0.0</td>\n",
              "      <td>0.0</td>\n",
              "      <td>0.0</td>\n",
              "      <td>0.0</td>\n",
              "      <td>0.0</td>\n",
              "      <td>0.0</td>\n",
              "    </tr>\n",
              "    <tr>\n",
              "      <th>3</th>\n",
              "      <td>0.530594</td>\n",
              "      <td>1.068005</td>\n",
              "      <td>0.524148</td>\n",
              "      <td>0.685653</td>\n",
              "      <td>-0.226455</td>\n",
              "      <td>0.391659</td>\n",
              "      <td>0.43492</td>\n",
              "      <td>0.463841</td>\n",
              "      <td>-0.447941</td>\n",
              "      <td>0.0</td>\n",
              "      <td>...</td>\n",
              "      <td>0.0</td>\n",
              "      <td>0.0</td>\n",
              "      <td>0.0</td>\n",
              "      <td>0.0</td>\n",
              "      <td>0.0</td>\n",
              "      <td>0.0</td>\n",
              "      <td>0.0</td>\n",
              "      <td>0.0</td>\n",
              "      <td>0.0</td>\n",
              "      <td>0.0</td>\n",
              "    </tr>\n",
              "    <tr>\n",
              "      <th>4</th>\n",
              "      <td>1.296693</td>\n",
              "      <td>2.120794</td>\n",
              "      <td>0.524148</td>\n",
              "      <td>-1.458464</td>\n",
              "      <td>-0.226455</td>\n",
              "      <td>0.391659</td>\n",
              "      <td>0.43492</td>\n",
              "      <td>0.463841</td>\n",
              "      <td>-0.447941</td>\n",
              "      <td>0.0</td>\n",
              "      <td>...</td>\n",
              "      <td>0.0</td>\n",
              "      <td>0.0</td>\n",
              "      <td>0.0</td>\n",
              "      <td>0.0</td>\n",
              "      <td>0.0</td>\n",
              "      <td>0.0</td>\n",
              "      <td>0.0</td>\n",
              "      <td>0.0</td>\n",
              "      <td>0.0</td>\n",
              "      <td>0.0</td>\n",
              "    </tr>\n",
              "  </tbody>\n",
              "</table>\n",
              "<p>5 rows × 50 columns</p>\n",
              "</div>\n",
              "      <button class=\"colab-df-convert\" onclick=\"convertToInteractive('df-6bea25b3-455a-4fd5-a9ab-958a681b152a')\"\n",
              "              title=\"Convert this dataframe to an interactive table.\"\n",
              "              style=\"display:none;\">\n",
              "        \n",
              "  <svg xmlns=\"http://www.w3.org/2000/svg\" height=\"24px\"viewBox=\"0 0 24 24\"\n",
              "       width=\"24px\">\n",
              "    <path d=\"M0 0h24v24H0V0z\" fill=\"none\"/>\n",
              "    <path d=\"M18.56 5.44l.94 2.06.94-2.06 2.06-.94-2.06-.94-.94-2.06-.94 2.06-2.06.94zm-11 1L8.5 8.5l.94-2.06 2.06-.94-2.06-.94L8.5 2.5l-.94 2.06-2.06.94zm10 10l.94 2.06.94-2.06 2.06-.94-2.06-.94-.94-2.06-.94 2.06-2.06.94z\"/><path d=\"M17.41 7.96l-1.37-1.37c-.4-.4-.92-.59-1.43-.59-.52 0-1.04.2-1.43.59L10.3 9.45l-7.72 7.72c-.78.78-.78 2.05 0 2.83L4 21.41c.39.39.9.59 1.41.59.51 0 1.02-.2 1.41-.59l7.78-7.78 2.81-2.81c.8-.78.8-2.07 0-2.86zM5.41 20L4 18.59l7.72-7.72 1.47 1.35L5.41 20z\"/>\n",
              "  </svg>\n",
              "      </button>\n",
              "      \n",
              "  <style>\n",
              "    .colab-df-container {\n",
              "      display:flex;\n",
              "      flex-wrap:wrap;\n",
              "      gap: 12px;\n",
              "    }\n",
              "\n",
              "    .colab-df-convert {\n",
              "      background-color: #E8F0FE;\n",
              "      border: none;\n",
              "      border-radius: 50%;\n",
              "      cursor: pointer;\n",
              "      display: none;\n",
              "      fill: #1967D2;\n",
              "      height: 32px;\n",
              "      padding: 0 0 0 0;\n",
              "      width: 32px;\n",
              "    }\n",
              "\n",
              "    .colab-df-convert:hover {\n",
              "      background-color: #E2EBFA;\n",
              "      box-shadow: 0px 1px 2px rgba(60, 64, 67, 0.3), 0px 1px 3px 1px rgba(60, 64, 67, 0.15);\n",
              "      fill: #174EA6;\n",
              "    }\n",
              "\n",
              "    [theme=dark] .colab-df-convert {\n",
              "      background-color: #3B4455;\n",
              "      fill: #D2E3FC;\n",
              "    }\n",
              "\n",
              "    [theme=dark] .colab-df-convert:hover {\n",
              "      background-color: #434B5C;\n",
              "      box-shadow: 0px 1px 3px 1px rgba(0, 0, 0, 0.15);\n",
              "      filter: drop-shadow(0px 1px 2px rgba(0, 0, 0, 0.3));\n",
              "      fill: #FFFFFF;\n",
              "    }\n",
              "  </style>\n",
              "\n",
              "      <script>\n",
              "        const buttonEl =\n",
              "          document.querySelector('#df-6bea25b3-455a-4fd5-a9ab-958a681b152a button.colab-df-convert');\n",
              "        buttonEl.style.display =\n",
              "          google.colab.kernel.accessAllowed ? 'block' : 'none';\n",
              "\n",
              "        async function convertToInteractive(key) {\n",
              "          const element = document.querySelector('#df-6bea25b3-455a-4fd5-a9ab-958a681b152a');\n",
              "          const dataTable =\n",
              "            await google.colab.kernel.invokeFunction('convertToInteractive',\n",
              "                                                     [key], {});\n",
              "          if (!dataTable) return;\n",
              "\n",
              "          const docLinkHtml = 'Like what you see? Visit the ' +\n",
              "            '<a target=\"_blank\" href=https://colab.research.google.com/notebooks/data_table.ipynb>data table notebook</a>'\n",
              "            + ' to learn more about interactive tables.';\n",
              "          element.innerHTML = '';\n",
              "          dataTable['output_type'] = 'display_data';\n",
              "          await google.colab.output.renderOutput(dataTable, element);\n",
              "          const docLink = document.createElement('div');\n",
              "          docLink.innerHTML = docLinkHtml;\n",
              "          element.appendChild(docLink);\n",
              "        }\n",
              "      </script>\n",
              "    </div>\n",
              "  </div>\n",
              "  "
            ]
          },
          "metadata": {},
          "execution_count": 6
        }
      ]
    },
    {
      "cell_type": "markdown",
      "source": [
        "Run the next cell to define the network we'll use for this task."
      ],
      "metadata": {
        "id": "H6GsdBHulXIF"
      }
    },
    {
      "cell_type": "code",
      "source": [
        "from tensorflow import keras\n",
        "from tensorflow.keras import layers\n",
        "\n",
        "model = keras.Sequential([\n",
        "    layers.Dense(128, activation='relu', input_shape=input_shape),\n",
        "    layers.Dense(128, activation='relu'),    \n",
        "    layers.Dense(64, activation='relu'),\n",
        "    layers.Dense(1),\n",
        "])"
      ],
      "metadata": {
        "id": "NmL7OTU-lXIG"
      },
      "execution_count": 5,
      "outputs": []
    },
    {
      "cell_type": "markdown",
      "source": [
        "# 1) Add Loss and Optimizer\n",
        "\n",
        "Before training the network we need to define the loss and optimizer we'll use. Using the model's `compile` method, add the Adam optimizer and MAE loss."
      ],
      "metadata": {
        "id": "V2PaxFlclXIG"
      }
    },
    {
      "cell_type": "code",
      "source": [
        "# YOUR CODE HERE\n",
        "____"
      ],
      "metadata": {
        "lines_to_next_cell": 0,
        "id": "iZcVzrlMlXIG"
      },
      "execution_count": null,
      "outputs": []
    },
    {
      "cell_type": "markdown",
      "source": [
        "# 2) Train Model\n",
        "\n",
        "Once you've defined the model and compiled it with a loss and optimizer you're ready for training. Train the network for 200 epochs with a batch size of 128. The input data is `X` with target `y`."
      ],
      "metadata": {
        "id": "5oMvKRXXlXIH"
      }
    },
    {
      "cell_type": "code",
      "source": [
        "# YOUR CODE HERE\n",
        "history = ____"
      ],
      "metadata": {
        "lines_to_next_cell": 0,
        "id": "xvssSzk6lXIH"
      },
      "execution_count": null,
      "outputs": []
    },
    {
      "cell_type": "markdown",
      "source": [
        "The last step is to look at the loss curves and evaluate the training. Run the cell below to get a plot of the training loss."
      ],
      "metadata": {
        "id": "1CIi0-9tlXIH"
      }
    },
    {
      "cell_type": "code",
      "source": [
        "import pandas as pd\n",
        "\n",
        "history_df = pd.DataFrame(history.history)\n",
        "# Start the plot at epoch 5. You can change this to get a different view.\n",
        "history_df.loc[5:, ['loss']].plot();"
      ],
      "metadata": {
        "lines_to_next_cell": 0,
        "id": "6KQj7ByllXIH"
      },
      "execution_count": null,
      "outputs": []
    },
    {
      "cell_type": "markdown",
      "source": [
        "# 3) Evaluate Training\n",
        "\n",
        "If you trained the model longer, would you expect the loss to decrease further?"
      ],
      "metadata": {
        "id": "QpSXTzcRlXIH"
      }
    },
    {
      "cell_type": "markdown",
      "source": [
        "With the learning rate and the batch size, you have some control over:\n",
        "- How long it takes to train a model\n",
        "- How noisy the learning curves are\n",
        "- How small the loss becomes\n",
        "\n",
        "To get a better understanding of these two parameters, we'll look at the linear model, our ppsimplest neural network. Having only a single weight and a bias, it's easier to see what effect a change of parameter has.\n",
        "\n",
        "The next cell will generate an animation. Change the values for `learning_rate`, `batch_size`, and `num_examples` (how many data points) and then run the cell. (It may take a moment or two.) Try the following combinations, or try some of your own:\n",
        "\n",
        "| `learning_rate` | `batch_size` | `num_examples` |\n",
        "|-----------------|--------------|----------------|\n",
        "| 0.05            | 32           | 256            |\n",
        "| 0.05            | 2            | 256            |\n",
        "| 0.05            | 128          | 256            |\n",
        "| 0.02            | 32           | 256            |\n",
        "| 0.2             | 32           | 256            |\n",
        "| 1.0             | 32           | 256            |\n",
        "| 0.9             | 4096         | 8192           |\n",
        "| 0.99            | 4096         | 8192           |"
      ],
      "metadata": {
        "id": "D2XTPUm7lXII"
      }
    },
    {
      "cell_type": "code",
      "source": [
        "# YOUR CODE HERE: Experiment with different values for the learning rate, batch size, and number of examples\n",
        "learning_rate = 0.05\n",
        "batch_size = 32\n",
        "num_examples = 256\n",
        "\n",
        "animate_sgd(\n",
        "    learning_rate=learning_rate,\n",
        "    batch_size=batch_size,\n",
        "    num_examples=num_examples,\n",
        "    # You can also change these, if you like\n",
        "    steps=50, # total training steps (batches seen)\n",
        "    true_w=3.0, # the slope of the data\n",
        "    true_b=2.0, # the bias of the data\n",
        ")"
      ],
      "metadata": {
        "id": "m66lHzUAlXII"
      },
      "execution_count": null,
      "outputs": []
    },
    {
      "cell_type": "markdown",
      "source": [
        "## That's it!"
      ],
      "metadata": {
        "id": "dXgIty_zl9g_"
      }
    }
  ]
}