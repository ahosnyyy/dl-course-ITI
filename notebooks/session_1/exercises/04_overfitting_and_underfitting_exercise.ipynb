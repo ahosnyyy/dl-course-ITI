{
  "metadata": {
    "jupytext": {
      "cell_metadata_filter": "-all",
      "formats": "ipynb"
    },
    "kernelspec": {
      "display_name": "Python 3",
      "language": "python",
      "name": "python3"
    },
    "language_info": {
      "codemirror_mode": {
        "name": "ipython",
        "version": 3
      },
      "file_extension": ".py",
      "mimetype": "text/x-python",
      "name": "python",
      "nbconvert_exporter": "python",
      "pygments_lexer": "ipython3",
      "version": "3.6.5"
    },
    "colab": {
      "name": "04-overfitting-and-underfitting-exercise.ipynb",
      "provenance": [],
      "collapsed_sections": []
    }
  },
  "nbformat_minor": 0,
  "nbformat": 4,
  "cells": [
    {
      "cell_type": "markdown",
      "source": [
        "# Introduction #\n",
        "\n",
        "In this exercise, you’ll learn how to improve training outcomes by including an early stopping callback to prevent overfitting.\n",
        "\n",
        "When you're ready, run this next cell to set everything up!"
      ],
      "metadata": {
        "id": "lZdKdIFwqlHh"
      }
    },
    {
      "cell_type": "code",
      "source": [
        "# Setup plotting\n",
        "import matplotlib.pyplot as plt\n",
        "plt.style.use('seaborn-whitegrid')\n",
        "# Set Matplotlib defaults\n",
        "plt.rc('figure', autolayout=True)\n",
        "plt.rc('axes', labelweight='bold', labelsize='large',\n",
        "       titleweight='bold', titlesize=18, titlepad=10)\n",
        "plt.rc('animation', html='html5')"
      ],
      "metadata": {
        "id": "TnqN1IHRqlHi"
      },
      "execution_count": null,
      "outputs": []
    },
    {
      "cell_type": "markdown",
      "source": [
        "First load the *Spotify* dataset. Your task will be to predict the popularity of a song based on various audio features, like `'tempo'`, `'danceability'`, and `'mode'`."
      ],
      "metadata": {
        "id": "A4fksHM9qlHj"
      }
    },
    {
      "cell_type": "code",
      "source": [
        "import pandas as pd\n",
        "from sklearn.preprocessing import StandardScaler, OneHotEncoder\n",
        "from sklearn.compose import make_column_transformer\n",
        "from sklearn.model_selection import GroupShuffleSplit\n",
        "\n",
        "from tensorflow import keras\n",
        "from tensorflow.keras import layers\n",
        "from tensorflow.keras import callbacks\n",
        "\n",
        "spotify = pd.read_csv('./spotify.csv')\n",
        "\n",
        "X = spotify.copy().dropna()\n",
        "y = X.pop('track_popularity')\n",
        "artists = X['track_artist']\n",
        "\n",
        "features_num = ['danceability', 'energy', 'key', 'loudness', 'mode',\n",
        "                'speechiness', 'acousticness', 'instrumentalness',\n",
        "                'liveness', 'valence', 'tempo', 'duration_ms']\n",
        "features_cat = ['playlist_genre']\n",
        "\n",
        "preprocessor = make_column_transformer(\n",
        "    (StandardScaler(), features_num),\n",
        "    (OneHotEncoder(), features_cat),\n",
        ")\n",
        "\n",
        "# We'll do a \"grouped\" split to keep all of an artist's songs in one\n",
        "# split or the other. This is to help prevent signal leakage.\n",
        "def group_split(X, y, group, train_size=0.75):\n",
        "    splitter = GroupShuffleSplit(train_size=train_size)\n",
        "    train, test = next(splitter.split(X, y, groups=group))\n",
        "    return (X.iloc[train], X.iloc[test], y.iloc[train], y.iloc[test])\n",
        "\n",
        "X_train, X_valid, y_train, y_valid = group_split(X, y, artists)\n",
        "\n",
        "X_train = preprocessor.fit_transform(X_train)\n",
        "X_valid = preprocessor.transform(X_valid)\n",
        "y_train = y_train / 100 # popularity is on a scale 0-100, so this rescales to 0-1.\n",
        "y_valid = y_valid / 100\n",
        "\n",
        "input_shape = [X_train.shape[1]]\n",
        "print(\"Input shape: {}\".format(input_shape))"
      ],
      "metadata": {
        "id": "zmxnkyXMqlHj"
      },
      "execution_count": null,
      "outputs": []
    },
    {
      "cell_type": "markdown",
      "source": [
        "Let's start with the simplest network, a linear model. This model has low capacity.\n",
        "\n",
        "Run this next cell without any changes to train a linear model on the *Spotify* dataset."
      ],
      "metadata": {
        "id": "YnXLK_EXqlHk"
      }
    },
    {
      "cell_type": "code",
      "source": [
        "model = keras.Sequential([\n",
        "    layers.Dense(1, input_shape=input_shape),\n",
        "])\n",
        "model.compile(\n",
        "    optimizer='adam',\n",
        "    loss='mae',\n",
        ")\n",
        "history = model.fit(\n",
        "    X_train, y_train,\n",
        "    validation_data=(X_valid, y_valid),\n",
        "    batch_size=512,\n",
        "    epochs=50,\n",
        "    verbose=0, # suppress output since we'll plot the curves\n",
        ")\n",
        "history_df = pd.DataFrame(history.history)\n",
        "history_df.loc[0:, ['loss', 'val_loss']].plot()\n",
        "print(\"Minimum Validation Loss: {:0.4f}\".format(history_df['val_loss'].min()));"
      ],
      "metadata": {
        "lines_to_next_cell": 0,
        "id": "_KqgAbtsqlHk"
      },
      "execution_count": null,
      "outputs": []
    },
    {
      "cell_type": "markdown",
      "source": [
        "It's not uncommon for the curves to follow a \"hockey stick\" pattern like you see here. This makes the final part of training hard to see, so let's start at epoch 10 instead:"
      ],
      "metadata": {
        "id": "P00wBlddqlHl"
      }
    },
    {
      "cell_type": "code",
      "source": [
        "# Start the plot at epoch 10\n",
        "history_df.loc[10:, ['loss', 'val_loss']].plot()\n",
        "print(\"Minimum Validation Loss: {:0.4f}\".format(history_df['val_loss'].min()));"
      ],
      "metadata": {
        "id": "xGg_iWDEqlHl"
      },
      "execution_count": null,
      "outputs": []
    },
    {
      "cell_type": "markdown",
      "source": [
        "# 1) Evaluate Baseline\n",
        "\n",
        "What do you think? Would you say this model is underfitting, overfitting, just right?"
      ],
      "metadata": {
        "id": "c-ZpF1uVqlHl"
      }
    },
    {
      "cell_type": "markdown",
      "source": [
        "Now let's add some capacity to our network. We'll add three hidden layers with 128 units each. Run the next cell to train the network and see the learning curves."
      ],
      "metadata": {
        "id": "OClMwYrhqlHm"
      }
    },
    {
      "cell_type": "code",
      "source": [
        "model = keras.Sequential([\n",
        "    layers.Dense(128, activation='relu', input_shape=input_shape),\n",
        "    layers.Dense(64, activation='relu'),\n",
        "    layers.Dense(1)\n",
        "])\n",
        "model.compile(\n",
        "    optimizer='adam',\n",
        "    loss='mae',\n",
        ")\n",
        "history = model.fit(\n",
        "    X_train, y_train,\n",
        "    validation_data=(X_valid, y_valid),\n",
        "    batch_size=512,\n",
        "    epochs=50,\n",
        ")\n",
        "history_df = pd.DataFrame(history.history)\n",
        "history_df.loc[:, ['loss', 'val_loss']].plot()\n",
        "print(\"Minimum Validation Loss: {:0.4f}\".format(history_df['val_loss'].min()));"
      ],
      "metadata": {
        "id": "SZd4G6cUqlHm"
      },
      "execution_count": null,
      "outputs": []
    },
    {
      "cell_type": "markdown",
      "source": [
        "# 2) Add Capacity\n",
        "\n",
        "What is your evaluation of these curves? Underfitting, overfitting, just right?"
      ],
      "metadata": {
        "id": "5pGJj_eRqlHm"
      }
    },
    {
      "cell_type": "markdown",
      "source": [
        "# 3) Define Early Stopping Callback\n",
        "\n",
        "Now define an early stopping callback that waits 5 epochs (`patience'`) for a change in validation loss of at least `0.001` (`min_delta`) and keeps the weights with the best loss (`restore_best_weights`)."
      ],
      "metadata": {
        "id": "pMiF6SwlqlHm"
      }
    },
    {
      "cell_type": "code",
      "source": [
        "from tensorflow.keras import callbacks\n",
        "\n",
        "# YOUR CODE HERE: define an early stopping callback\n",
        "early_stopping = ____"
      ],
      "metadata": {
        "lines_to_next_cell": 0,
        "id": "5VAQzNLTqlHn"
      },
      "execution_count": null,
      "outputs": []
    },
    {
      "cell_type": "markdown",
      "source": [
        "Now run this cell to train the model and get the learning curves. Notice the `callbacks` argument in `model.fit`."
      ],
      "metadata": {
        "id": "drrjk81gqlHn"
      }
    },
    {
      "cell_type": "code",
      "source": [
        "model = keras.Sequential([\n",
        "    layers.Dense(128, activation='relu', input_shape=input_shape),\n",
        "    layers.Dense(64, activation='relu'),    \n",
        "    layers.Dense(1)\n",
        "])\n",
        "model.compile(\n",
        "    optimizer='adam',\n",
        "    loss='mae',\n",
        ")\n",
        "history = model.fit(\n",
        "    X_train, y_train,\n",
        "    validation_data=(X_valid, y_valid),\n",
        "    batch_size=512,\n",
        "    epochs=50,\n",
        "    callbacks=[early_stopping]\n",
        ")\n",
        "history_df = pd.DataFrame(history.history)\n",
        "history_df.loc[:, ['loss', 'val_loss']].plot()\n",
        "print(\"Minimum Validation Loss: {:0.4f}\".format(history_df['val_loss'].min()));"
      ],
      "metadata": {
        "id": "pCZ_ID96qlHn"
      },
      "execution_count": null,
      "outputs": []
    },
    {
      "cell_type": "markdown",
      "source": [
        "## That's it!"
      ],
      "metadata": {
        "id": "S0_wED4drFC3"
      }
    }
  ]
}