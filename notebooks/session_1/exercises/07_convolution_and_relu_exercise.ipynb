{
  "metadata": {
    "jupytext": {
      "formats": "md,ipynb"
    },
    "kernelspec": {
      "display_name": "Python 3",
      "language": "python",
      "name": "python3"
    },
    "language_info": {
      "codemirror_mode": {
        "name": "ipython",
        "version": 3
      },
      "file_extension": ".py",
      "mimetype": "text/x-python",
      "name": "python",
      "nbconvert_exporter": "python",
      "pygments_lexer": "ipython3",
      "version": "3.6.5"
    },
    "colab": {
      "name": "exercise-convolution-and-relu.ipynb",
      "provenance": [],
      "collapsed_sections": []
    }
  },
  "nbformat_minor": 0,
  "nbformat": 4,
  "cells": [
    {
      "cell_type": "markdown",
      "source": [
        "# Introduction #\n",
        "\n",
        "In this exercise, you'll work on building some intuition around feature extraction. First, we'll walk through the example we did in the tutorial again, but this time, with a kernel you choose yourself. We've mostly been working with images in this course, but what's behind all of the operations we're learning about is mathematics. So, we'll also take a look at how these feature maps can be represented instead as arrays of numbers and what effect convolution with a kernel will have on them.\n",
        "\n",
        "Run the cell below to get started!"
      ],
      "metadata": {
        "id": "iaUuINjNDr67"
      }
    },
    {
      "cell_type": "code",
      "source": [
        "import numpy as np\n",
        "import tensorflow as tf\n",
        "import matplotlib.pyplot as plt\n",
        "\n",
        "plt.rc('figure', autolayout=True)\n",
        "plt.rc('axes', labelweight='bold', labelsize='large',\n",
        "       titleweight='bold', titlesize=18, titlepad=10)\n",
        "plt.rc('image', cmap='magma')\n",
        "\n",
        "tf.config.run_functions_eagerly(True)"
      ],
      "metadata": {
        "id": "WBhWa_ZDDr67"
      },
      "execution_count": 2,
      "outputs": []
    },
    {
      "cell_type": "markdown",
      "source": [
        "# Apply Transformations #\n",
        "\n",
        "The next few exercises walk through feature extraction just like the example in the tutorial. Run the following cell to load an image we'll use for the next few exercises."
      ],
      "metadata": {
        "id": "93CXxTDpDr68"
      }
    },
    {
      "cell_type": "code",
      "source": [
        "image_path = './car_illus.jpg'\n",
        "image = tf.io.read_file(image_path)\n",
        "image = tf.io.decode_jpeg(image, channels=1)\n",
        "image = tf.image.resize(image, size=[400, 400])\n",
        "\n",
        "img = tf.squeeze(image).numpy()\n",
        "plt.figure(figsize=(6, 6))\n",
        "plt.imshow(img, cmap='gray')\n",
        "plt.axis('off')\n",
        "plt.show();"
      ],
      "metadata": {
        "id": "L6W7YAYzDr69"
      },
      "execution_count": null,
      "outputs": []
    },
    {
      "cell_type": "markdown",
      "source": [
        "# 1) Define Kernel #\n",
        "\n",
        "Use the next code cell to define a kernel. You have your choice of what kind of kernel to apply. One thing to keep in mind is that the *sum* of the numbers in the kernel determines how bright the final image is. Generally, you should try to keep the sum of the numbers between 0 and 1 (though that's not required for a correct answer).\n",
        "\n",
        "In general, a kernel can have any number of rows and columns. For this exercise, let's use a $3 \\times 3$ kernel, which often gives the best results. Define a kernel with `tf.constant`."
      ],
      "metadata": {
        "id": "XIibOGF9Dr6-"
      }
    },
    {
      "cell_type": "code",
      "source": [
        "# YOUR CODE HERE: Define a kernel with 3 rows and 3 columns.\n",
        "kernel = tf.constant([\n",
        "    #____,\n",
        "])"
      ],
      "metadata": {
        "lines_to_next_cell": 0,
        "id": "JF9ON-YNDr6-"
      },
      "execution_count": null,
      "outputs": []
    },
    {
      "cell_type": "markdown",
      "source": [
        "Now we'll do the first step of feature extraction, the filtering step. First run this cell to do some reformatting for TensorFlow."
      ],
      "metadata": {
        "id": "toyFDvfMDr6-"
      }
    },
    {
      "cell_type": "code",
      "source": [
        "# Reformat for batch compatibility.\n",
        "image = tf.image.convert_image_dtype(image, dtype=tf.float32)\n",
        "image = tf.expand_dims(image, axis=0)\n",
        "kernel = tf.reshape(kernel, [*kernel.shape, 1, 1])\n",
        "kernel = tf.cast(kernel, dtype=tf.float32)"
      ],
      "metadata": {
        "id": "v0VfUZddDr6_"
      },
      "execution_count": null,
      "outputs": []
    },
    {
      "cell_type": "markdown",
      "source": [
        "# 2) Apply Convolution #\n",
        "\n",
        "Now we'll apply the kernel to the image by a convolution. The *layer* in Keras that does this is `layers.Conv2D`. What is the *backend function* in TensorFlow that performs the same operation?"
      ],
      "metadata": {
        "id": "KxZmtUcwDr6_"
      }
    },
    {
      "cell_type": "code",
      "source": [
        "# YOUR CODE HERE: Give the TensorFlow convolution function (without arguments)\n",
        "conv_fn = ____"
      ],
      "metadata": {
        "lines_to_next_cell": 0,
        "id": "qPmhMotZDr6_"
      },
      "execution_count": null,
      "outputs": []
    },
    {
      "cell_type": "markdown",
      "source": [
        "Once you've got the correct answer, run this next cell to execute the convolution and see the result!"
      ],
      "metadata": {
        "id": "zojNGFVgDr6_"
      }
    },
    {
      "cell_type": "code",
      "source": [
        "image_filter = conv_fn(\n",
        "    input=image,\n",
        "    filters=kernel,\n",
        "    strides=1, # or (1, 1)\n",
        "    padding='SAME',\n",
        ")\n",
        "\n",
        "plt.imshow(\n",
        "    # Reformat for plotting\n",
        "    tf.squeeze(image_filter)\n",
        ")\n",
        "plt.axis('off')\n",
        "plt.show();"
      ],
      "metadata": {
        "id": "2PkljUE8Dr6_"
      },
      "execution_count": null,
      "outputs": []
    },
    {
      "cell_type": "markdown",
      "source": [
        "Can you see how the kernel you chose relates to the feature map it produced?\n",
        "\n",
        "# 3) Apply ReLU #\n",
        "\n",
        "Now detect the feature with the ReLU function. In Keras, you'll usually use this as the activation function in a `Conv2D` layer. What is the *backend function* in TensorFlow that does the same thing?"
      ],
      "metadata": {
        "id": "JVA15wgzDr7A"
      }
    },
    {
      "cell_type": "code",
      "source": [
        "# YOUR CODE HERE: Give the TensorFlow ReLU function (without arguments)\n",
        "relu_fn = ____"
      ],
      "metadata": {
        "lines_to_next_cell": 0,
        "id": "C5Z1_f4KDr7A"
      },
      "execution_count": null,
      "outputs": []
    },
    {
      "cell_type": "markdown",
      "source": [
        "Once you've got the solution, run this cell to detect the feature with ReLU and see the result!\n",
        "\n",
        "The image you see below is the feature map produced by the kernel you chose. If you like, experiment with some of the other suggested kernels above, or, try to invent one that will extract a certain kind of feature.\n"
      ],
      "metadata": {
        "id": "KFTOxJrpDr7A"
      }
    },
    {
      "cell_type": "code",
      "source": [
        "image_detect = relu_fn(image_filter)\n",
        "\n",
        "plt.imshow(\n",
        "    # Reformat for plotting\n",
        "    tf.squeeze(image_detect)\n",
        ")\n",
        "plt.axis('off')\n",
        "plt.show();"
      ],
      "metadata": {
        "id": "70O4gaPNDr7A"
      },
      "execution_count": null,
      "outputs": []
    },
    {
      "cell_type": "markdown",
      "source": [
        "In the tutorial, our discussion of kernels and feature maps was mainly visual. We saw the effect of `Conv2D` and `ReLU` by observing how they transformed some example images.\n",
        "\n",
        "But the operations in a convolutional network (like in all neural networks) are usually defined through mathematical functions, through a computation on numbers. In the next exercise, we'll take a moment to explore this point of view.\n",
        "\n",
        "Let's start by defining a simple array to act as an image, and another array to act as the kernel. Run the following cell to see these arrays."
      ],
      "metadata": {
        "id": "MGDoat6TDr7A"
      }
    },
    {
      "cell_type": "code",
      "source": [
        "# Sympy is a python library for symbolic mathematics. It has a nice\n",
        "# pretty printer for matrices, which is all we'll use it for.\n",
        "import sympy\n",
        "sympy.init_printing()\n",
        "from IPython.display import display\n",
        "\n",
        "image = np.array([\n",
        "    [0, 1, 0, 0, 0, 0],\n",
        "    [0, 1, 0, 0, 0, 0],\n",
        "    [0, 1, 0, 0, 0, 0],\n",
        "    [0, 1, 0, 0, 0, 0],\n",
        "    [0, 1, 0, 1, 1, 1],\n",
        "    [0, 1, 0, 0, 0, 0],\n",
        "])\n",
        "\n",
        "kernel = np.array([\n",
        "    [1, -1],\n",
        "    [1, -1],\n",
        "])\n",
        "\n",
        "display(sympy.Matrix(image))\n",
        "display(sympy.Matrix(kernel))\n",
        "# Reformat for Tensorflow\n",
        "image = tf.cast(image, dtype=tf.float32)\n",
        "image = tf.reshape(image, [1, *image.shape, 1])\n",
        "kernel = tf.reshape(kernel, [*kernel.shape, 1, 1])\n",
        "kernel = tf.cast(kernel, dtype=tf.float32)"
      ],
      "metadata": {
        "colab": {
          "base_uri": "https://localhost:8080/",
          "height": 180
        },
        "id": "6l8A110hDr7A",
        "outputId": "07a2b020-7996-43f2-edd0-4c9952e8b47d"
      },
      "execution_count": 3,
      "outputs": [
        {
          "output_type": "display_data",
          "data": {
            "text/plain": [
              "⎡0  1  0  0  0  0⎤\n",
              "⎢                ⎥\n",
              "⎢0  1  0  0  0  0⎥\n",
              "⎢                ⎥\n",
              "⎢0  1  0  0  0  0⎥\n",
              "⎢                ⎥\n",
              "⎢0  1  0  0  0  0⎥\n",
              "⎢                ⎥\n",
              "⎢0  1  0  1  1  1⎥\n",
              "⎢                ⎥\n",
              "⎣0  1  0  0  0  0⎦"
            ],
            "text/latex": "$\\displaystyle \\left[\\begin{matrix}0 & 1 & 0 & 0 & 0 & 0\\\\0 & 1 & 0 & 0 & 0 & 0\\\\0 & 1 & 0 & 0 & 0 & 0\\\\0 & 1 & 0 & 0 & 0 & 0\\\\0 & 1 & 0 & 1 & 1 & 1\\\\0 & 1 & 0 & 0 & 0 & 0\\end{matrix}\\right]$"
          },
          "metadata": {}
        },
        {
          "output_type": "display_data",
          "data": {
            "text/plain": [
              "⎡1  -1⎤\n",
              "⎢     ⎥\n",
              "⎣1  -1⎦"
            ],
            "text/latex": "$\\displaystyle \\left[\\begin{matrix}1 & -1\\\\1 & -1\\end{matrix}\\right]$"
          },
          "metadata": {}
        }
      ]
    },
    {
      "cell_type": "markdown",
      "source": [
        "Now let's try it out. Run the next cell to apply convolution and ReLU to the image and display the result."
      ],
      "metadata": {
        "id": "WGW7KBpPDr7B"
      }
    },
    {
      "cell_type": "code",
      "source": [
        "image_filter = tf.nn.conv2d(\n",
        "    input=image,\n",
        "    filters=kernel,\n",
        "    strides=1,\n",
        "    padding='VALID',\n",
        ")\n",
        "image_detect = tf.nn.relu(image_filter)\n",
        "\n",
        "# The first matrix is the image after convolution, and the second is\n",
        "# the image after ReLU.\n",
        "display(sympy.Matrix(tf.squeeze(image_filter).numpy()))\n",
        "display(sympy.Matrix(tf.squeeze(image_detect).numpy()))"
      ],
      "metadata": {
        "colab": {
          "base_uri": "https://localhost:8080/",
          "height": 220
        },
        "id": "XVy4-GluDr7B",
        "outputId": "173affae-b494-417a-8f76-53c34689816e"
      },
      "execution_count": 4,
      "outputs": [
        {
          "output_type": "display_data",
          "data": {
            "text/plain": [
              "⎡-2.0  2.0  0.0   0.0  0.0⎤\n",
              "⎢                         ⎥\n",
              "⎢-2.0  2.0  0.0   0.0  0.0⎥\n",
              "⎢                         ⎥\n",
              "⎢-2.0  2.0  0.0   0.0  0.0⎥\n",
              "⎢                         ⎥\n",
              "⎢-2.0  2.0  -1.0  0.0  0.0⎥\n",
              "⎢                         ⎥\n",
              "⎣-2.0  2.0  -1.0  0.0  0.0⎦"
            ],
            "text/latex": "$\\displaystyle \\left[\\begin{matrix}-2.0 & 2.0 & 0.0 & 0.0 & 0.0\\\\-2.0 & 2.0 & 0.0 & 0.0 & 0.0\\\\-2.0 & 2.0 & 0.0 & 0.0 & 0.0\\\\-2.0 & 2.0 & -1.0 & 0.0 & 0.0\\\\-2.0 & 2.0 & -1.0 & 0.0 & 0.0\\end{matrix}\\right]$"
          },
          "metadata": {}
        },
        {
          "output_type": "display_data",
          "data": {
            "text/plain": [
              "⎡0.0  2.0  0.0  0.0  0.0⎤\n",
              "⎢                       ⎥\n",
              "⎢0.0  2.0  0.0  0.0  0.0⎥\n",
              "⎢                       ⎥\n",
              "⎢0.0  2.0  0.0  0.0  0.0⎥\n",
              "⎢                       ⎥\n",
              "⎢0.0  2.0  0.0  0.0  0.0⎥\n",
              "⎢                       ⎥\n",
              "⎣0.0  2.0  0.0  0.0  0.0⎦"
            ],
            "text/latex": "$\\displaystyle \\left[\\begin{matrix}0.0 & 2.0 & 0.0 & 0.0 & 0.0\\\\0.0 & 2.0 & 0.0 & 0.0 & 0.0\\\\0.0 & 2.0 & 0.0 & 0.0 & 0.0\\\\0.0 & 2.0 & 0.0 & 0.0 & 0.0\\\\0.0 & 2.0 & 0.0 & 0.0 & 0.0\\end{matrix}\\right]$"
          },
          "metadata": {}
        }
      ]
    },
    {
      "cell_type": "markdown",
      "source": [
        "## That's it!"
      ],
      "metadata": {
        "id": "cYpDsp-sEOyB"
      }
    }
  ]
}