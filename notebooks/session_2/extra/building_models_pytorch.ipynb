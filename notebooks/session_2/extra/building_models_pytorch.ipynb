{
  "cells": [
    {
      "cell_type": "markdown",
      "metadata": {
        "id": "ibSiFG1f56QO"
      },
      "source": [
        "\n",
        "# Building Models with PyTorch\n",
        "\n",
        "## ``torch.nn.Module`` and ``torch.nn.Parameter``\n",
        "\n",
        "In this tutorial, we’ll be discussing some of the tools PyTorch makes\n",
        "available for building deep learning networks.\n",
        "\n",
        "Except for ``Parameter``, the classes we discuss in this tutorial are all\n",
        "subclasses of ``torch.nn.Module``. This is the PyTorch base class meant\n",
        "to encapsulate behaviors specific to PyTorch Models and their\n",
        "components.\n",
        "\n",
        "One important behavior of ``torch.nn.Module`` is registering parameters.\n",
        "If a particular ``Module`` subclass has learning weights, these weights\n",
        "are expressed as instances of ``torch.nn.Parameter``. The ``Parameter``\n",
        "class is a subclass of ``torch.Tensor``, with the special behavior that\n",
        "when they are assigned as attributes of a ``Module``, they are added to\n",
        "the list of that modules parameters. These parameters may be accessed\n",
        "through the ``parameters()`` method on the ``Module`` class.\n",
        "\n",
        "As a simple example, here’s a very simple model with two linear layers\n",
        "and an activation function. We’ll create an instance of it and ask it to\n",
        "report on its parameters:\n"
      ]
    },
    {
      "cell_type": "code",
      "execution_count": null,
      "metadata": {
        "id": "iYcR_xKs56QS",
        "outputId": "b9a76f16-123e-44c1-a153-1e5d6d7cc319",
        "colab": {
          "base_uri": "https://localhost:8080/"
        }
      },
      "outputs": [
        {
          "output_type": "stream",
          "name": "stdout",
          "text": [
            "The model:\n",
            "TinyModel(\n",
            "  (linear1): Linear(in_features=100, out_features=200, bias=True)\n",
            "  (activation): ReLU()\n",
            "  (linear2): Linear(in_features=200, out_features=10, bias=True)\n",
            "  (softmax): Softmax(dim=None)\n",
            ")\n",
            "\n",
            "\n",
            "Just one layer:\n",
            "Linear(in_features=200, out_features=10, bias=True)\n",
            "\n",
            "\n",
            "Model params:\n",
            "Parameter containing:\n",
            "tensor([[-0.0987, -0.0893, -0.0886,  ..., -0.0764,  0.0774, -0.0205],\n",
            "        [-0.0361,  0.0838, -0.0352,  ...,  0.0129,  0.0567, -0.0495],\n",
            "        [-0.0705,  0.0168, -0.0716,  ..., -0.0706, -0.0065, -0.0561],\n",
            "        ...,\n",
            "        [-0.0908, -0.0225, -0.0751,  ..., -0.0424,  0.0183, -0.0524],\n",
            "        [-0.0797, -0.0836, -0.0773,  ...,  0.0572, -0.0550,  0.0203],\n",
            "        [-0.0191, -0.0534, -0.0837,  ..., -0.0846, -0.0595,  0.0390]],\n",
            "       requires_grad=True)\n",
            "Parameter containing:\n",
            "tensor([ 0.0613,  0.0810,  0.0921,  0.0318, -0.0945, -0.0438, -0.0958, -0.0498,\n",
            "         0.0550, -0.0684, -0.0767,  0.0861, -0.0784,  0.0978, -0.0411,  0.0615,\n",
            "         0.0194, -0.0667,  0.0659,  0.0947,  0.0555,  0.0364, -0.0733, -0.0089,\n",
            "        -0.0047, -0.0922, -0.0301, -0.0111,  0.0784,  0.0719,  0.0783, -0.0711,\n",
            "        -0.0231, -0.0607, -0.0664,  0.0544,  0.0525, -0.0125, -0.0270, -0.0538,\n",
            "         0.0488, -0.0346, -0.0212,  0.0095,  0.0587,  0.0401, -0.0743, -0.0984,\n",
            "        -0.0477,  0.0700,  0.0832,  0.0430,  0.0608, -0.0563,  0.0867,  0.0855,\n",
            "         0.0567,  0.0414,  0.0626,  0.0738, -0.0230, -0.0964, -0.0153, -0.0513,\n",
            "         0.0114, -0.0571, -0.0842,  0.0195,  0.0176, -0.0312, -0.0600, -0.0170,\n",
            "        -0.0904,  0.0554, -0.0622,  0.0354, -0.0453, -0.0927, -0.0348, -0.0034,\n",
            "         0.0271,  0.0381, -0.0862,  0.0062,  0.0495,  0.0034, -0.0993, -0.0942,\n",
            "        -0.0089,  0.0522, -0.0699, -0.0668,  0.0828, -0.0030,  0.0094, -0.0209,\n",
            "        -0.0169, -0.0289,  0.0182,  0.0139,  0.0870, -0.0173, -0.0717,  0.0321,\n",
            "        -0.0179,  0.0355, -0.0314,  0.0089, -0.0262, -0.0109,  0.0188,  0.0128,\n",
            "        -0.0190,  0.0626, -0.0528, -0.0108, -0.0839,  0.0218,  0.0190, -0.0524,\n",
            "        -0.0813,  0.0503, -0.0110,  0.0105, -0.0368, -0.0888, -0.0955, -0.0395,\n",
            "         0.0566,  0.0857,  0.0460,  0.0600, -0.0292, -0.0717, -0.0955,  0.0993,\n",
            "        -0.0458,  0.0039,  0.0888,  0.0871,  0.0677,  0.0591,  0.0556,  0.0305,\n",
            "         0.0166,  0.0911,  0.0881,  0.0536, -0.0979, -0.0930, -0.0716, -0.0079,\n",
            "         0.0406, -0.0645,  0.0324, -0.0633,  0.0906,  0.0255,  0.0525,  0.0617,\n",
            "         0.0456,  0.0826, -0.0801, -0.0725,  0.0228, -0.0047, -0.0925, -0.0835,\n",
            "        -0.0178, -0.0792,  0.0030, -0.0318, -0.0954, -0.0739,  0.0613,  0.0533,\n",
            "        -0.0918, -0.0628,  0.0141,  0.0885, -0.0881,  0.0037,  0.0253, -0.0144,\n",
            "         0.0205,  0.0440,  0.0038,  0.0842,  0.0631,  0.0568, -0.0732,  0.0473,\n",
            "         0.0683,  0.0828, -0.0924,  0.0009, -0.0531,  0.0706,  0.0360, -0.0181],\n",
            "       requires_grad=True)\n",
            "Parameter containing:\n",
            "tensor([[ 0.0379,  0.0238, -0.0199,  ..., -0.0268,  0.0385, -0.0462],\n",
            "        [ 0.0618,  0.0283, -0.0312,  ...,  0.0441,  0.0319,  0.0424],\n",
            "        [-0.0086,  0.0381,  0.0174,  ..., -0.0676,  0.0342, -0.0638],\n",
            "        ...,\n",
            "        [-0.0640,  0.0011, -0.0076,  ..., -0.0099,  0.0125,  0.0480],\n",
            "        [ 0.0537,  0.0672,  0.0484,  ..., -0.0200, -0.0680, -0.0334],\n",
            "        [-0.0520, -0.0529,  0.0115,  ...,  0.0339,  0.0293, -0.0190]],\n",
            "       requires_grad=True)\n",
            "Parameter containing:\n",
            "tensor([ 0.0050,  0.0246, -0.0587, -0.0666, -0.0676,  0.0033, -0.0511, -0.0460,\n",
            "        -0.0221,  0.0526], requires_grad=True)\n",
            "\n",
            "\n",
            "Layer params:\n",
            "Parameter containing:\n",
            "tensor([[ 0.0379,  0.0238, -0.0199,  ..., -0.0268,  0.0385, -0.0462],\n",
            "        [ 0.0618,  0.0283, -0.0312,  ...,  0.0441,  0.0319,  0.0424],\n",
            "        [-0.0086,  0.0381,  0.0174,  ..., -0.0676,  0.0342, -0.0638],\n",
            "        ...,\n",
            "        [-0.0640,  0.0011, -0.0076,  ..., -0.0099,  0.0125,  0.0480],\n",
            "        [ 0.0537,  0.0672,  0.0484,  ..., -0.0200, -0.0680, -0.0334],\n",
            "        [-0.0520, -0.0529,  0.0115,  ...,  0.0339,  0.0293, -0.0190]],\n",
            "       requires_grad=True)\n",
            "Parameter containing:\n",
            "tensor([ 0.0050,  0.0246, -0.0587, -0.0666, -0.0676,  0.0033, -0.0511, -0.0460,\n",
            "        -0.0221,  0.0526], requires_grad=True)\n"
          ]
        }
      ],
      "source": [
        "import torch\n",
        "\n",
        "class TinyModel(torch.nn.Module):\n",
        "    \n",
        "    def __init__(self):\n",
        "        super(TinyModel, self).__init__()\n",
        "        \n",
        "        self.linear1 = torch.nn.Linear(100, 200)\n",
        "        self.activation = torch.nn.ReLU()\n",
        "        self.linear2 = torch.nn.Linear(200, 10)\n",
        "        self.softmax = torch.nn.Softmax()\n",
        "    \n",
        "    def forward(self, x):\n",
        "        x = self.linear1(x)\n",
        "        x = self.activation(x)\n",
        "        x = self.linear2(x)\n",
        "        x = self.softmax(x)\n",
        "        return x\n",
        "\n",
        "tinymodel = TinyModel()\n",
        "\n",
        "print('The model:')\n",
        "print(tinymodel)\n",
        "\n",
        "print('\\n\\nJust one layer:')\n",
        "print(tinymodel.linear2)\n",
        "\n",
        "print('\\n\\nModel params:')\n",
        "for param in tinymodel.parameters():\n",
        "    print(param)\n",
        "\n",
        "print('\\n\\nLayer params:')\n",
        "for param in tinymodel.linear2.parameters():\n",
        "    print(param)"
      ]
    },
    {
      "cell_type": "markdown",
      "metadata": {
        "id": "QsrhUcKL56QU"
      },
      "source": [
        "This shows the fundamental structure of a PyTorch model: there is an\n",
        "``__init__()`` method that defines the layers and other components of a\n",
        "model, and a ``forward()`` method where the computation gets done. Note\n",
        "that we can print the model, or any of its submodules, to learn about\n",
        "its structure.\n",
        "\n",
        "Common Layer Types\n",
        "------------------\n",
        "\n",
        "####Linear Layers\n",
        "\n",
        "The most basic type of neural network layer is a **linear** or **fully\n",
        "connected** layer. This is a layer where every input influences every\n",
        "output of the layer to a degree specified by the layer’s weights. If a\n",
        "model has $m$ inputs and $n$ outputs, the weights will be an $m \\times n$\n",
        "matrix. For example:\n",
        "\n",
        "\n"
      ]
    },
    {
      "cell_type": "code",
      "execution_count": null,
      "metadata": {
        "id": "fn5bisGA56QU",
        "outputId": "0a18f589-d633-4bb8-987e-800370a5a8c1",
        "colab": {
          "base_uri": "https://localhost:8080/"
        }
      },
      "outputs": [
        {
          "output_type": "stream",
          "name": "stdout",
          "text": [
            "Input:\n",
            "tensor([[0.7642, 0.9892, 0.8572]])\n",
            "\n",
            "\n",
            "Weight and Bias parameters:\n",
            "Parameter containing:\n",
            "tensor([[-0.4636,  0.5687, -0.3957],\n",
            "        [ 0.4748, -0.0033,  0.1830]], requires_grad=True)\n",
            "Parameter containing:\n",
            "tensor([-0.5069, -0.0497], requires_grad=True)\n",
            "\n",
            "\n",
            "Output:\n",
            "tensor([[-0.6378,  0.4668]], grad_fn=<AddmmBackward0>)\n"
          ]
        }
      ],
      "source": [
        "lin = torch.nn.Linear(3, 2)\n",
        "x = torch.rand(1, 3)\n",
        "print('Input:')\n",
        "print(x)\n",
        "\n",
        "print('\\n\\nWeight and Bias parameters:')\n",
        "for param in lin.parameters():\n",
        "    print(param)\n",
        "\n",
        "y = lin(x)\n",
        "print('\\n\\nOutput:')\n",
        "print(y)"
      ]
    },
    {
      "cell_type": "markdown",
      "metadata": {
        "id": "WNONlFQu56QU"
      },
      "source": [
        "If you do the matrix multiplication of $x$ by the linear layer’s\n",
        "weights, and add the biases, you’ll find that you get the output vector\n",
        "$y$.\n",
        "\n",
        "One other important feature to note: When we checked the weights of our\n",
        "layer with ``lin.weight``, it reported itself as a ``Parameter`` (which\n",
        "is a subclass of ``Tensor``), and let us know that it’s tracking\n",
        "gradients with autograd. This is a default behavior for ``Parameter``\n",
        "that differs from ``Tensor``.\n",
        "\n",
        "Linear layers are used widely in deep learning models. One of the most\n",
        "common places you’ll see them is in classifier models, which will\n",
        "usually have one or more linear layers at the end, where the last layer\n",
        "will have $n$ outputs, where $n$ is the number of classes the classifier\n",
        "addresses.\n",
        "\n",
        "####Convolutional Layers\n",
        "\n",
        "**Convolutional** layers are built to handle data with a high degree of\n",
        "spatial correlation.\n",
        "\n",
        "\n"
      ]
    },
    {
      "cell_type": "code",
      "execution_count": null,
      "metadata": {
        "id": "SgaNPzT356QV"
      },
      "outputs": [],
      "source": [
        "import torch.functional as F\n",
        "\n",
        "\n",
        "class LeNet(torch.nn.Module):\n",
        "\n",
        "    def __init__(self):\n",
        "        super(LeNet, self).__init__()\n",
        "        # 1 input image channel (black & white), 6 output channels, 5x5 square convolution\n",
        "        # kernel\n",
        "        self.conv1 = torch.nn.Conv2d(1, 6, 5)\n",
        "        self.conv2 = torch.nn.Conv2d(6, 16, 3)\n",
        "        # an affine operation: y = Wx + b\n",
        "        self.fc1 = torch.nn.Linear(16 * 6 * 6, 120)  # 6*6 from image dimension\n",
        "        self.fc2 = torch.nn.Linear(120, 84)\n",
        "        self.fc3 = torch.nn.Linear(84, 10)\n",
        "\n",
        "    def forward(self, x):\n",
        "        # Max pooling over a (2, 2) window\n",
        "        x = F.max_pool2d(F.relu(self.conv1(x)), (2, 2))\n",
        "        # If the size is a square you can only specify a single number\n",
        "        x = F.max_pool2d(F.relu(self.conv2(x)), 2)\n",
        "        x = x.view(-1, self.num_flat_features(x))\n",
        "        x = F.relu(self.fc1(x))\n",
        "        x = F.relu(self.fc2(x))\n",
        "        x = self.fc3(x)\n",
        "        return x\n",
        "\n",
        "    def num_flat_features(self, x):\n",
        "        size = x.size()[1:]  # all dimensions except the batch dimension\n",
        "        num_features = 1\n",
        "        for s in size:\n",
        "            num_features *= s\n",
        "        return num_features"
      ]
    },
    {
      "cell_type": "markdown",
      "metadata": {
        "id": "vHDE9MGA56QW"
      },
      "source": [
        "Let’s break down what’s happening in the convolutional layers of this\n",
        "model. Starting with ``conv1``:\n",
        "\n",
        "-  LeNet5 is meant to take in a $1 \\times 32 \\times 32$ black & white image. **The first argument to a convolutional layer’s constructor is the number of\n",
        "   input channels.** Here, it is $1$. If we were building this model to\n",
        "   look at *3-color* channels, it would be $3$.\n",
        "\n",
        "-  A convolutional layer is like a window that scans over the image,\n",
        "   looking for a pattern it recognizes. These patterns are called\n",
        "   **features**, and one of the parameters of a convolutional layer is the\n",
        "   number of features we would like it to learn. **This is the second\n",
        "   argument to the constructor is the number of output features.** Here,\n",
        "   we’re asking our layer to learn $6$ features.\n",
        "\n",
        "-  Just above, I likened the convolutional layer to a window - but how\n",
        "   big is the window? **The third argument is the window or kernel\n",
        "   size.** Here, the $5$ means we’ve chosen a $5 \\times 5$ kernel. (If you want a kernel with height different from width, you can specify a tuple for this argument - e.g., $(3, 5)$ to get a $3 \\times 5$ convolution kernel.)\n",
        "\n",
        "The output of a convolutional layer is an **activation map** - a spatial\n",
        "representation of the presence of features in the input tensor.\n",
        "``conv1`` will give us an output tensor of $6 \\times 28 \\times 28$; $6$ is the number of features, and $28$ is the height and width of our map. (The $28$ comes from the fact that when scanning a *5-pixel* window over a *32-pixel* row, there are only $28$ valid positions.)\n",
        "\n",
        "We then pass the output of the convolution through a ReLU activation\n",
        "function (more on activation functions later), then through a max\n",
        "pooling layer. The max pooling layer takes features near each other in\n",
        "the activation map and groups them together. It does this by reducing\n",
        "the tensor, merging every $2 \\times 2$ group of cells in the output into a single cell, and assigning that cell the maximum value of the $4$ cells that went into it. This gives us a lower-resolution version of the activation map,\n",
        "with dimensions $6 \\times 14 \\times 14$.\n",
        "\n",
        "Our next convolutional layer, ``conv2``, expects $6$ input channels\n",
        "(corresponding to the $6$ features sought by the first layer), has $16$\n",
        "output channels, and a $3 \\times 3$ kernel. It puts out a $16 \\times 12 \\times 12$ activation map, which is again reduced by a max pooling layer to 16x6x6. Prior to passing this output to the linear layers, it is reshaped to a $16 \\times 6 \\times 6 = 576$ element vector for consumption by the next layer.\n",
        "\n",
        "There are convolutional layers for addressing 1D, 2D, and 3D tensors.\n",
        "There are also many more optional arguments for a conv layer\n",
        "constructor, including stride length(e.g., only scanning every second or\n",
        "every third position) in the input, padding (so you can scan out to the\n",
        "edges of the input), and more. See the\n",
        "[documentation](https://pytorch.org/docs/stable/nn.html#convolution-layers)\n",
        "for more information.\n",
        "\n",
        "####Recurrent Layers\n",
        "\n",
        "**Recurrent neural networks** (or *RNNs)* are used for sequential data -\n",
        "anything from time-series measurements from a scientific instrument to\n",
        "natural language sentences to DNA nucleotides. An RNN does this by\n",
        "maintaining a *hidden state* that acts as a sort of memory for what it\n",
        "has seen in the sequence so far.\n",
        "\n",
        "The internal structure of an RNN layer - or its variants, the LSTM (long\n",
        "short-term memory) and GRU (gated recurrent unit) - is moderately\n",
        "complex and beyond the scope of this video, but we’ll show you what one\n",
        "looks like in action with an LSTM-based part-of-speech tagger (a type of\n",
        "classifier that tells you if a word is a noun, verb, etc.):\n",
        "\n",
        "\n"
      ]
    },
    {
      "cell_type": "code",
      "execution_count": null,
      "metadata": {
        "id": "d5jmoSn156QW"
      },
      "outputs": [],
      "source": [
        "class LSTMTagger(torch.nn.Module):\n",
        "\n",
        "    def __init__(self, embedding_dim, hidden_dim, vocab_size, tagset_size):\n",
        "        super(LSTMTagger, self).__init__()\n",
        "        self.hidden_dim = hidden_dim\n",
        "\n",
        "        self.word_embeddings = torch.nn.Embedding(vocab_size, embedding_dim)\n",
        "\n",
        "        # The LSTM takes word embeddings as inputs, and outputs hidden states\n",
        "        # with dimensionality hidden_dim.\n",
        "        self.lstm = torch.nn.LSTM(embedding_dim, hidden_dim)\n",
        "\n",
        "        # The linear layer that maps from hidden state space to tag space\n",
        "        self.hidden2tag = torch.nn.Linear(hidden_dim, tagset_size)\n",
        "\n",
        "    def forward(self, sentence):\n",
        "        embeds = self.word_embeddings(sentence)\n",
        "        lstm_out, _ = self.lstm(embeds.view(len(sentence), 1, -1))\n",
        "        tag_space = self.hidden2tag(lstm_out.view(len(sentence), -1))\n",
        "        tag_scores = F.log_softmax(tag_space, dim=1)\n",
        "        return tag_scores"
      ]
    },
    {
      "cell_type": "markdown",
      "metadata": {
        "id": "mkJE35AT56QX"
      },
      "source": [
        "The constructor has four arguments:\n",
        "\n",
        "-  ``vocab_size`` is the number of words in the input vocabulary. Each\n",
        "   word is a one-hot vector (or unit vector) in a\n",
        "   ``vocab_size``-dimensional space.\n",
        "-  ``tagset_size`` is the number of tags in the output set.\n",
        "-  ``embedding_dim`` is the size of the *embedding* space for the\n",
        "   vocabulary. An embedding maps a vocabulary onto a low-dimensional\n",
        "   space, where words with similar meanings are close together in the\n",
        "   space.\n",
        "-  ``hidden_dim`` is the size of the LSTM’s memory.\n",
        "\n",
        "The input will be a sentence with the words represented as indices of\n",
        "one-hot vectors. The embedding layer will then map these down to an\n",
        "``embedding_dim``-dimensional space. The LSTM takes this sequence of\n",
        "embeddings and iterates over it, fielding an output vector of length\n",
        "``hidden_dim``. The final linear layer acts as a classifier; applying\n",
        "``log_softmax()`` to the output of the final layer converts the output\n",
        "into a normalized set of estimated probabilities that a given word maps\n",
        "to a given tag.\n",
        "\n",
        "If you’d like to see this network in action, check out the [Sequence Models and LSTM Networks](https://pytorch.org/tutorials/beginner/nlp/sequence_models_tutorial.html) tutorial.\n",
        "\n",
        "####Transformers\n",
        "\n",
        "**Transformers** are multi-purpose networks that have taken over the state\n",
        "of the art in NLP with models like BERT. A discussion of transformer\n",
        "architecture is beyond the scope of this video, but PyTorch has a\n",
        "``Transformer`` class that allows you to define the overall parameters\n",
        "of a transformer model - the number of attention heads, the number of\n",
        "encoder & decoder layers, dropout and activation functions, etc. (You\n",
        "can even build the BERT model from this single class, with the right\n",
        "parameters!) The ``torch.nn.Transformer`` class also has classes to\n",
        "encapsulate the individual components (``TransformerEncoder``,\n",
        "``TransformerDecoder``) and subcomponents (``TransformerEncoderLayer``,\n",
        "``TransformerDecoderLayer``). For details, check out the\n",
        "[documentation](https://pytorch.org/docs/stable/nn.html#transformer-layers)\n",
        "on transformer classes, and the relevant\n",
        "[tutorial](https://pytorch.org/tutorials/beginner/transformer_tutorial.html).\n",
        "\n",
        "Other Layers and Functions\n",
        "--------------------------\n",
        "\n",
        "####Data Manipulation Layers\n",
        "\n",
        "\n",
        "There are other layer types that perform important functions in models,\n",
        "but don’t participate in the learning process themselves.\n",
        "\n",
        "**Max pooling** (and its twin, min pooling) reduce a tensor by combining\n",
        "cells, and assigning the maximum value of the input cells to the output\n",
        "cell (we saw this). For example:\n",
        "\n",
        "\n"
      ]
    },
    {
      "cell_type": "code",
      "execution_count": null,
      "metadata": {
        "id": "JSsSsa9X56QX",
        "outputId": "fff15d9e-67f0-489b-828c-08ffd5f83c1d",
        "colab": {
          "base_uri": "https://localhost:8080/"
        }
      },
      "outputs": [
        {
          "output_type": "stream",
          "name": "stdout",
          "text": [
            "tensor([[[0.7634, 0.5781, 0.5431, 0.2234, 0.0026, 0.1716],\n",
            "         [0.9277, 0.1444, 0.2025, 0.7582, 0.9303, 0.8632],\n",
            "         [0.5057, 0.7325, 0.5964, 0.5119, 0.1011, 0.7171],\n",
            "         [0.3949, 0.7986, 0.1418, 0.7619, 0.1014, 0.0374],\n",
            "         [0.4419, 0.8950, 0.4692, 0.5816, 0.8106, 0.1450],\n",
            "         [0.0848, 0.3646, 0.9730, 0.6058, 0.0042, 0.3457]]])\n",
            "tensor([[[0.9277, 0.9303],\n",
            "         [0.9730, 0.8106]]])\n"
          ]
        }
      ],
      "source": [
        "my_tensor = torch.rand(1, 6, 6)\n",
        "print(my_tensor)\n",
        "\n",
        "maxpool_layer = torch.nn.MaxPool2d(3)\n",
        "print(maxpool_layer(my_tensor))"
      ]
    },
    {
      "cell_type": "markdown",
      "metadata": {
        "id": "Ux6Agly956QX"
      },
      "source": [
        "If you look closely at the values above, you’ll see that each of the\n",
        "values in the maxpooled output is the maximum value of each quadrant of\n",
        "the 6x6 input.\n",
        "\n",
        "**Normalization layers** re-center and normalize the output of one layer\n",
        "before feeding it to another. Centering the and scaling the intermediate\n",
        "tensors has a number of beneficial effects, such as letting you use\n",
        "higher learning rates without exploding/vanishing gradients.\n",
        "\n",
        "\n"
      ]
    },
    {
      "cell_type": "code",
      "execution_count": null,
      "metadata": {
        "id": "Z2aA1_7H56QY",
        "outputId": "cfbe43d5-fe07-4b0c-bde4-9cc23253244c",
        "colab": {
          "base_uri": "https://localhost:8080/"
        }
      },
      "outputs": [
        {
          "output_type": "stream",
          "name": "stdout",
          "text": [
            "tensor([[[19.6974,  9.1500, 21.3887,  9.1262],\n",
            "         [19.9126, 20.7191,  5.7023,  7.9160],\n",
            "         [20.4879,  5.8692,  5.2438, 10.8829],\n",
            "         [ 6.2357,  7.7137, 24.7201,  5.6972]]])\n",
            "tensor(12.5289)\n",
            "tensor([[[ 0.8471, -0.9925,  1.1420, -0.9966],\n",
            "         [ 0.9332,  1.0517, -1.1551, -0.8298],\n",
            "         [ 1.6171, -0.7788, -0.8813,  0.0429],\n",
            "         [-0.6144, -0.4274,  1.7245, -0.6826]]],\n",
            "       grad_fn=<NativeBatchNormBackward0>)\n",
            "tensor(4.4703e-08, grad_fn=<MeanBackward0>)\n"
          ]
        }
      ],
      "source": [
        "my_tensor = torch.rand(1, 4, 4) * 20 + 5\n",
        "print(my_tensor)\n",
        "\n",
        "print(my_tensor.mean())\n",
        "\n",
        "norm_layer = torch.nn.BatchNorm1d(4)\n",
        "normed_tensor = norm_layer(my_tensor)\n",
        "print(normed_tensor)\n",
        "\n",
        "print(normed_tensor.mean())"
      ]
    },
    {
      "cell_type": "markdown",
      "metadata": {
        "id": "z6tnongx56QY"
      },
      "source": [
        "Running the cell above, we’ve added a large scaling factor and offset to\n",
        "an input tensor; you should see the input tensor’s ``mean()`` somewhere\n",
        "in the neighborhood of 15. After running it through the normalization\n",
        "layer, you can see that the values are smaller, and grouped around zero\n",
        "- in fact, the mean should be very small $(> 1 \\times e^{-8})$.\n",
        "\n",
        "This is beneficial because many activation functions (discussed below)\n",
        "have their strongest gradients near $0$, but sometimes suffer from\n",
        "vanishing or exploding gradients for inputs that drive them far away\n",
        "from zero. Keeping the data centered around the area of steepest\n",
        "gradient will tend to mean faster, better learning and higher feasible\n",
        "learning rates.\n",
        "\n",
        "**Dropout layers** are a tool for encouraging *sparse representations*\n",
        "in your model - that is, pushing it to do inference with less data.\n",
        "\n",
        "Dropout layers work by randomly setting parts of the input tensor\n",
        "*during training* - dropout layers are always turned off for inference.\n",
        "This forces the model to learn against this masked or reduced dataset.\n",
        "For example:\n",
        "\n",
        "\n"
      ]
    },
    {
      "cell_type": "code",
      "execution_count": null,
      "metadata": {
        "id": "nYWYWNRw56QY",
        "outputId": "caafe090-060a-42f0-d05a-6baca3cdee33",
        "colab": {
          "base_uri": "https://localhost:8080/"
        }
      },
      "outputs": [
        {
          "output_type": "stream",
          "name": "stdout",
          "text": [
            "tensor([[[0.0000, 1.2237, 0.0950, 1.1904],\n",
            "         [0.4578, 1.3927, 0.4154, 1.0922],\n",
            "         [1.3444, 0.0000, 1.4125, 0.9846],\n",
            "         [0.4715, 0.5972, 0.6386, 0.0000]]])\n",
            "tensor([[[0.4192, 0.0000, 0.0950, 1.1904],\n",
            "         [0.4578, 0.0000, 0.4154, 1.0922],\n",
            "         [0.0000, 0.2625, 0.0000, 0.9846],\n",
            "         [0.0000, 0.0000, 0.6386, 1.4345]]])\n"
          ]
        }
      ],
      "source": [
        "my_tensor = torch.rand(1, 4, 4)\n",
        "\n",
        "dropout = torch.nn.Dropout(p=0.4)\n",
        "print(dropout(my_tensor))\n",
        "print(dropout(my_tensor))"
      ]
    },
    {
      "cell_type": "markdown",
      "metadata": {
        "id": "NnrWASR356QY"
      },
      "source": [
        "Above, you can see the effect of dropout on a sample tensor. You can use\n",
        "the optional ``p`` argument to set the probability of an individual\n",
        "weight dropping out; if you don’t it defaults to $0.5$.\n",
        "\n",
        "####Activation Functions\n",
        "\n",
        "Activation functions make deep learning possible. A neural network is\n",
        "really a program - with many parameters - that **simulates a mathematical\n",
        "function**. If all we did was multiple tensors by layer weights\n",
        "repeatedly, we could only simulate **linear functions**; further, there\n",
        "would be no point to having many layers, as the whole network would\n",
        "reduce could be reduced to a single matrix multiplication. Inserting\n",
        "**non-linear** activation functions between layers is what allows a deep\n",
        "learning model to simulate any function, rather than just linear ones.\n",
        "\n",
        "``torch.nn.Module`` has objects encapsulating all of the major\n",
        "activation functions including ReLU and its many variants, Tanh,\n",
        "Hardtanh, sigmoid, and more. It also includes other functions, such as\n",
        "Softmax, that are most useful at the output stage of a model.\n",
        "\n",
        "####Loss Functions\n",
        "\n",
        "Loss functions tell us how far a model’s prediction is from the correct\n",
        "answer. PyTorch contains a variety of loss functions, including common\n",
        "MSE (mean squared error = L2 norm), Cross Entropy Loss and Negative\n",
        "Likelihood Loss (useful for classifiers), and others.\n",
        "\n",
        "\n"
      ]
    },
    {
      "cell_type": "markdown",
      "source": [
        "# End!"
      ],
      "metadata": {
        "id": "6nw0_QYoAPyF"
      }
    }
  ],
  "metadata": {
    "kernelspec": {
      "display_name": "Python 3",
      "language": "python",
      "name": "python3"
    },
    "language_info": {
      "codemirror_mode": {
        "name": "ipython",
        "version": 3
      },
      "file_extension": ".py",
      "mimetype": "text/x-python",
      "name": "python",
      "nbconvert_exporter": "python",
      "pygments_lexer": "ipython3",
      "version": "3.7.11"
    },
    "colab": {
      "name": "PyTorch101Week#03 - Building Models with PyTorch.ipynb",
      "provenance": [],
      "collapsed_sections": []
    }
  },
  "nbformat": 4,
  "nbformat_minor": 0
}